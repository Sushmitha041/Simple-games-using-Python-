{
 "cells": [
  {
   "cell_type": "code",
   "execution_count": 16,
   "metadata": {},
   "outputs": [],
   "source": [
    "from IPython.display import clear_output\n",
    "\n",
    "def display_board(board):\n",
    "    clear_output()\n",
    "    print('   |'+'   |'+'   ')\n",
    "    print(' '+board[1]+' |'+' '+board[2]+' |'+' '+board[3]+' ')\n",
    "    print('   |'+'   |'+'   ')\n",
    "    print('------------')\n",
    "    print('   |'+'   |'+'   ')\n",
    "    print(' '+board[4]+' |'+' '+board[5]+' |'+' '+board[6]+' ')\n",
    "    print('   |'+'   |'+'   ')\n",
    "    print('------------')\n",
    "    print('   |'+'   |'+'   ')\n",
    "    print(' '+board[7]+' |'+' '+board[8]+' |'+' '+board[9]+' ')\n",
    "    print('   |'+'   |'+'   ')\n"
   ]
  },
  {
   "cell_type": "code",
   "execution_count": 4,
   "metadata": {},
   "outputs": [],
   "source": [
    "def player_input():\n",
    "    \n",
    "    player_input=''\n",
    "    \n",
    "    while player_input != 'X' and player_input !='O':\n",
    "        \n",
    "        player_input = input(\"Player 1, choose X or O: \").upper()\n",
    "                             \n",
    "    if player_input == 'X':\n",
    "       return (\"X\",'O')\n",
    "    else:\n",
    "       return('O',\"X\")\n",
    "                         \n",
    "    "
   ]
  },
  {
   "cell_type": "code",
   "execution_count": 5,
   "metadata": {},
   "outputs": [],
   "source": [
    "def place_marker(board, marker, position):\n",
    "    board[position]=marker"
   ]
  },
  {
   "cell_type": "code",
   "execution_count": 6,
   "metadata": {},
   "outputs": [],
   "source": [
    "def win_check(board, mark):\n",
    "    \n",
    "    return ((board[7] == mark and board[8] == mark and board[9] == mark) or # across the top\n",
    "    (board[4] == mark and board[5] == mark and board[6] == mark) or # across the middle\n",
    "    (board[1] == mark and board[2] == mark and board[3] == mark) or # across the bottom\n",
    "    (board[7] == mark and board[4] == mark and board[1] == mark) or # down the middle\n",
    "    (board[8] == mark and board[5] == mark and board[2] == mark) or # down the middle\n",
    "    (board[9] == mark and board[6] == mark and board[3] == mark) or # down the right side\n",
    "    (board[7] == mark and board[5] == mark and board[3] == mark) or # diagonal\n",
    "    (board[9] == mark and board[5] == mark and board[1] == mark)) # diagonal"
   ]
  },
  {
   "cell_type": "code",
   "execution_count": 7,
   "metadata": {},
   "outputs": [],
   "source": [
    "import random \n",
    "def choose_first():\n",
    "    player = random.randint(1,2)\n",
    "    if player == 1:\n",
    "        return 'Player1'\n",
    "    else:\n",
    "        return 'Player2'"
   ]
  },
  {
   "cell_type": "code",
   "execution_count": 8,
   "metadata": {},
   "outputs": [],
   "source": [
    "def space_check(board, position):\n",
    "    return board[position] ==' '"
   ]
  },
  {
   "cell_type": "code",
   "execution_count": 9,
   "metadata": {},
   "outputs": [],
   "source": [
    "def full_board_check(board):\n",
    "    for i in range(1,10):\n",
    "        if  space_check(board,i):\n",
    "            return False\n",
    "    return True"
   ]
  },
  {
   "cell_type": "code",
   "execution_count": 22,
   "metadata": {},
   "outputs": [],
   "source": [
    "def player_choice(board):\n",
    "    position = 0\n",
    "    \n",
    "    while position not in [1,2,3,4,5,6,7,8,9] or not space_check(board, position):\n",
    "        position = int(input('Choose your next position: (1-9) '))\n",
    "        \n",
    "    return position"
   ]
  },
  {
   "cell_type": "code",
   "execution_count": 11,
   "metadata": {},
   "outputs": [],
   "source": [
    "def replay():\n",
    "    choice =''\n",
    "    \n",
    "    while choice != 'Y' and choice !='N':\n",
    "        choice=input(\"Wanna play again [Y /N]: \")\n",
    "    if choice =='Y':\n",
    "        return True\n",
    "    else:\n",
    "        return False\n",
    "    "
   ]
  },
  {
   "cell_type": "code",
   "execution_count": 23,
   "metadata": {},
   "outputs": [
    {
     "name": "stdout",
     "output_type": "stream",
     "text": [
      "   |   |   \n",
      " X | O | X \n",
      "   |   |   \n",
      "------------\n",
      "   |   |   \n",
      " O | X | O \n",
      "   |   |   \n",
      "------------\n",
      "   |   |   \n",
      " X |   |   \n",
      "   |   |   \n",
      "PLAYER2 HAS WON!!\n",
      "Wanna play again [Y /N]: N\n"
     ]
    }
   ],
   "source": [
    "print('Welcome to Tic Tac Toe!')\n",
    "\n",
    "while True:\n",
    "    \n",
    "    ## initial set up of board and player marker,whose1st,ready??\n",
    "    \n",
    "    main_board=[' ']*10\n",
    "    player1_marker,player2_marker =player_input()\n",
    "    \n",
    "    player = choose_first();\n",
    "    print( player +' will go first')\n",
    "    \n",
    "    #ready and start setup \n",
    "    \n",
    "    play_game= input(\"Ready to play ? Y / N?: \")\n",
    "    \n",
    "    if play_game =='Y':\n",
    "        game_on = True \n",
    "    else:\n",
    "        game_on=False\n",
    "    \n",
    "    while game_on:\n",
    "        \n",
    "        #Player 1 Turn\n",
    "        \n",
    "        if player =='player1':\n",
    "            \n",
    "            # show the board\n",
    "            display_board(main_board)\n",
    "            \n",
    "            #pic a position\n",
    "            position = player_choice(main_board)\n",
    "            \n",
    "            #placing marker on position\n",
    "            place_marker(main_board,player1_marker,position)\n",
    "\n",
    "            #check if player1 won or tie or change player\n",
    "            if win_check(main_board,player1_marker):\n",
    "                display_board(main_board)\n",
    "                print(\"PLAYER1 HAS WON!!\")\n",
    "                game_on =False\n",
    "            else:\n",
    "                if full_board_check(main_board):\n",
    "                    display_board(main_board)\n",
    "                    print(\"TIE GAME!!\")\n",
    "                    game_on = False\n",
    "                else:\n",
    "                    player = 'player2'\n",
    "                \n",
    "                \n",
    "        # Player2's turn.\n",
    "        \n",
    "        else:\n",
    "            # show the board\n",
    "            display_board(main_board)\n",
    "            \n",
    "            #pic a position\n",
    "            position = player_choice(main_board)\n",
    "            \n",
    "            #placing marker on position\n",
    "            place_marker(main_board,player2_marker,position)\n",
    "\n",
    "            #check if player1 won or tie or change player\n",
    "            if win_check(main_board,player2_marker):\n",
    "                display_board(main_board)\n",
    "                print(\"PLAYER2 HAS WON!!\")\n",
    "                game_on =False\n",
    "            else:\n",
    "                if full_board_check(main_board):\n",
    "                    display_board(main_board)\n",
    "                    print(\"TIE GAME!!\")\n",
    "                    game_on = False\n",
    "                else:\n",
    "                    player = 'player1'\n",
    "            \n",
    "        \n",
    "\n",
    "    if not replay():\n",
    "        break"
   ]
  },
  {
   "cell_type": "code",
   "execution_count": null,
   "metadata": {},
   "outputs": [],
   "source": []
  }
 ],
 "metadata": {
  "kernelspec": {
   "display_name": "Python 3",
   "language": "python",
   "name": "python3"
  },
  "language_info": {
   "codemirror_mode": {
    "name": "ipython",
    "version": 3
   },
   "file_extension": ".py",
   "mimetype": "text/x-python",
   "name": "python",
   "nbconvert_exporter": "python",
   "pygments_lexer": "ipython3",
   "version": "3.7.4"
  }
 },
 "nbformat": 4,
 "nbformat_minor": 2
}
